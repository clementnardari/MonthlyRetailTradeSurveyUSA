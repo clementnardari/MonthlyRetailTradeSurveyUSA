{
 "cells": [
  {
   "cell_type": "markdown",
   "metadata": {},
   "source": [
    "# Final Project Template"
   ]
  },
  {
   "cell_type": "markdown",
   "metadata": {},
   "source": [
    "For the final project for this module, you are asked to use ETL together with the skills you have learned about Python and MySQL in the previous modules to understand spending patterns.\n",
    "\n",
    "This module's project is divided into two main parts: Extract-Transform-Load (ETL) and Analysis and Visualization.\n",
    "\n",
    "Your challenge in this project is to implement the steps suggested by Dr. Sanchez in his videos throughout the module and prove that you have a a clear understanding of each of them by being able to describe and justify them. You will also be tested on your ability to conduct your own analysis to understand spending patterns.\n",
    "\n",
    "Before you fill out the project outline template below, make sure you:\n",
    "\n",
    "- Read through the template completely to understand the instructions for the structure of the project.\n",
    "- Have a clear understanding of what to do to create a model that will return the results you want to find.\n",
    "- Use Markdown to edit the template.\n",
    "- Include any screenshots of your code (both Python and MySQL) and of your program windows (Excel, Terminal, VS Code, MySQL Workbench) to demonstrate your steps."
   ]
  },
  {
   "cell_type": "markdown",
   "metadata": {},
   "source": [
    "<div class=\"alert alert-block alert-success\">\n",
    "The purpose of this Jupyter Notebook is to give you a structure to follow when you are solving your problem and developing your model with Python. Make sure you follow it carefully. You can add more subsections if needed, but remember to fill out every section provided in the template.\n",
    "</div>"
   ]
  },
  {
   "cell_type": "markdown",
   "metadata": {},
   "source": [
    "<div class=\"alert alert-block alert-danger\">\n",
    "Delete all cells above, including this one, before submitting your final Notebook.\n",
    "</div>"
   ]
  },
  {
   "cell_type": "markdown",
   "metadata": {},
   "source": [
    "# MRTS Project\n",
    "\n",
    "**Clement Nardari**\n"
   ]
  },
  {
   "cell_type": "markdown",
   "metadata": {},
   "source": [
    "# Index\n",
    "\n",
    "- [Abstract](#Abstract)\n",
    "- [1. Introduction](#1.-Introduction)\n",
    "- [2. Extract-Transform-Load](#2.-Extract-Transform-Load)\n",
    "    - [2.1 The ETL Process](#2.1-The-ETL-Process)\n",
    "    - [2.2 Data Exploration](#2.2-Data-Exploration)\n",
    "    - [2.3 Data Preparation](#2.3-Data-Preparation)\n",
    "    - [2.4 Read the Data Using Python](#2.4-Reading-the-Data-Using-Python)\n",
    "         - [2.4.1 Reading Sample Data](#2.4.1-Reading-Sample-Data)\n",
    "         - [2.4.2 Reading the MRST Data](#2.4.2-Reading-the-MRST-Data)\n",
    "    - [2.5 Writing an Installation Script](#2.5-Writing-an-Installation-Script)\n",
    "- [3. Analysis and Visualization](#3.-Project-Description)\n",
    "    - [3.1 Running Queries in MySQL Workbech](#3.1-Running-Queries-in-MySQL-Workbech)\n",
    "    - [3.2 Running Queries From Python](#3.2-Running-Queries-From-Python)\n",
    "    - [3.3 Explore Trends](#3.3-Explore-Trends)\n",
    "    - [3.4 Explore Percentage Change](#3.4-Explore-Percentage-Change)\n",
    "    - [3.5 Explore Rolling Time Windows](#3.5-Explore-Rolling-Time-Windows)\n",
    "- [Conclusion](#Conclusion)\n",
    "- [References](#References)"
   ]
  },
  {
   "cell_type": "markdown",
   "metadata": {},
   "source": [
    "[Back to top](#Index)\n",
    "\n",
    "\n",
    "##  Abstract\n",
    "\n",
    "The MRTS database has been used to analyze sales trends in the US since 1992. The database has been extracted, transformed and loaded to a SQL database using Python and pandas. Then the database has been queried, manipulated and plotted to analyses specific trends. Retail and food services are trending up and are very seasonal. The book industry is very seasonal and is trending down. The sport goods are trending up and this trend has increased since the COVID pandemic. From the total closing sales of men and women, women sales represent around 80 percent of the total sales and this trend is trending up. Men sales are trending down and women sales have tended up in the 2000, then flat in the 2010 and the down in the 2015."
   ]
  },
  {
   "cell_type": "markdown",
   "metadata": {},
   "source": [
    "[Back to top](#Index)\n",
    "\n",
    "\n",
    "## 1. Introduction\n",
    "\n",
    "This project is about creating an Extract Transform and Load (ELT) process and analyzing the data of the Monthly Retail Trade Survey (MRTS). The MRTS database is composed of monthly retail sales data per category such as Electronics, food, drinks, cars, etc. This data if used properly could be very handy for government agencies, banks, retail groups and others. The first step of this project is to extract the data from the excel file and the second step is to transform the data to be then in a third step loaded to a SQL database. Python and its two libraries numpy and pandas will be used to execute the three steps. To make sure this process could be deployed to a larger team, the choice has been made to avoid any manual manipulations. To do that the excel file will be loaded as it with a panda function: read_excel and transformed directly in a Python function. Then after the transformation, it will be loaded into the sql data base with a panda function: to_sql. \n",
    "After that, the data loaded into the database will be queried and the analysis of the data can start to provise insights about the consumptions trends and habits in America from 1992 to 2020. "
   ]
  },
  {
   "cell_type": "markdown",
   "metadata": {},
   "source": [
    "[Back to top](#Index)\n",
    "\n",
    "## 2. Extract-Transform-Load"
   ]
  },
  {
   "cell_type": "markdown",
   "metadata": {},
   "source": [
    "[Back to top](#Index)\n",
    "\n",
    "### 2.1 The ETL Process\n",
    "\n",
    "To avoid any manual steps to extract the data, the panda function read_excel has been used and incorporated in a function add_new_year that will take the excel file as it is and for each tables of the excel file import the needed rows and columns. Then it will manipulate the data in order to remove NA and strings from the values, change the name of the rows, put the column format into datetime format and finally transpose the matrix to have datetime and index and categories of sales as the columns.\n",
    "\n",
    "![VS code](./Pict1.jpg)"
   ]
  },
  {
   "cell_type": "markdown",
   "metadata": {},
   "source": [
    "[Back to top](#Index)\n",
    "\n",
    "### 2.2 Data Exploration\n",
    "\n",
    "The MRTS excel file is composed of different tabs representing different years. In each tabs sales are tabulated per month and category"
   ]
  },
  {
   "cell_type": "markdown",
   "metadata": {},
   "source": [
    "[Back to top](#Index)\n",
    "\n",
    "### 2.3 Data Preparation\n",
    "\n",
    "No modifications has been done to avoid manual steps\n"
   ]
  },
  {
   "cell_type": "markdown",
   "metadata": {},
   "source": [
    "[Back to top](#Index)\n",
    "\n",
    "### 2.4 Read the Data Using Python\n",
    "\n",
    "Pandas function read_sql has been used"
   ]
  },
  {
   "cell_type": "markdown",
   "metadata": {},
   "source": [
    "[Back to top](#Index)\n",
    "\n",
    "### 2.4.1 Reading Sample Data\n",
    "\n",
    "Frist test has been ran on one tab and then a for loop has been created to iterate on each tabs"
   ]
  },
  {
   "cell_type": "markdown",
   "metadata": {},
   "source": [
    "[Back to top](#Index)\n",
    "\n",
    "### 2.4.2 Reading the MRTS Data\n",
    "\n",
    "Read function has been created to automatize the process"
   ]
  },
  {
   "cell_type": "markdown",
   "metadata": {},
   "source": [
    "[Back to top](#Index)\n",
    "\n",
    "### 2.5 Writing an Installation Script\n",
    "\n",
    "\n",
    "To load the data to the sql database first, the installation script has to be created. MySQL workbench has been used for that step. The primary key will be the date of report line and it will have the format of datetime and the other columns will be integer and represent each sales categories. To automate the writing of all the cathegories and format, a small python strict has been created that lists all the categories and puts its respective format with a combination of fro loop and print function. To populate the database, a Python driver has been created. A yaml has been used for security mater. In order to be able to us the panda to sql function, an alchemy engine has been created. Then I looped the created add_new_year function from 1992 to 2020 to import the full database.\n",
    "\n",
    "![instalation script](./Pict2.jpg)\n",
    "![SQL](./Pict3.jpg)\n",
    "![SQL](./Pict4.jpg)"
   ]
  },
  {
   "cell_type": "markdown",
   "metadata": {},
   "source": [
    "\n",
    "[Back to top](#Index)\n",
    "\n",
    "## 3. Analysis and Visualization\n",
    "\n",
    "To access the data that has been extracted, transformed and loaded to the database, a python driver is used. The panda library is used to manipulate the data and then matplotlib and seaborn is used to plot the data. The benefits of using SQL to store the data is that the data can quickly be accessed and loaded by small batches to be mindful with the memory and computational power required for each small analysis. Additional, since the data is stored in a separated database, this will avoid any mistakes during the data analysis that could compromise all the data. The SQL database could be called the single source of truth and several engineers could query the data in parallel without compromising it.\n",
    "\n",
    "![SQL_query](./Pict5.jpg)"
   ]
  },
  {
   "attachments": {},
   "cell_type": "markdown",
   "metadata": {},
   "source": [
    "[Back to top](#Index)\n",
    "\n",
    "### 3.1 Running Queries in MySQL Workbech\n",
    "\n",
    "To verify that the data loaded into the database is not compromised a series of check sums against the total sales of each years has be run and no discrepancies have been observed. So at this point, it is safe to say the data is not compromised and can be used as is.\n",
    "![SQL_query_check](./Pict6.jpg)"
   ]
  },
  {
   "cell_type": "markdown",
   "metadata": {},
   "source": [
    "[Back to top](#Index)\n",
    "\n",
    "### 3.2 Running Queries From Python\n",
    "\n",
    "Jupiter note book has been used to query the database. A connector has been created to query the database and panda to store in memory the result of the query."
   ]
  },
  {
   "cell_type": "markdown",
   "metadata": {},
   "source": [
    "[Back to top](#Index)\n",
    "\n",
    "### 3.3 Explore Trends\n",
    "\n",
    "An economic trend is basically analyzing the movement over a period of time of the sales. Is it trending up or down, is there a seasonality? Since we live in a world where economic growth is a key KPI to judge if a company or a country is going well or not, economics trends are the backbone of our rating systems.\n",
    "\n",
    "To see the trends of the retail and food services categories, the query below has been run:\n",
    "\n",
    "![7](./Pict7.jpg)\n",
    "\n",
    "\n",
    "It can be seen it is trending up and there is a strong seasonality. By using the function rolling over 12 periods, it smoothens the plot and it is more readable.\n",
    "![8](./Pict8.jpg)\n",
    "\n",
    "To see the trends of bookstores, sporting goods stores, and hobbies, toys, and games stores categories, the query below has been run:\n",
    "\n",
    "![9](./Pict9.jpg)\n",
    "\n",
    "\n",
    "and then shuffled the data with pandas\n",
    "\n",
    "![10](./Pict10.jpg)\n",
    "\n",
    "Sporting goods have higher sales than books and hobby. Sporting goods are trending up by far most. There is a strong seasonality. For instance, we can see that books are sold around September where students go back to school and over Christmas. Toys are sold mostly around Christmas and sports goods are trending up from January to august then trending down and then up again around Christmas. We can clearly see that in 2020 when COVID hit, the sporting goods have trend up and books down.\n",
    "\n",
    "![11](./Pict12.jpg)\n",
    "![12](./Pict12.jpg)\n",
    "![13](./Pict13.jpg)\n"
   ]
  },
  {
   "cell_type": "markdown",
   "metadata": {},
   "source": [
    "[Back to top](#Index)\n",
    "\n",
    "### 3.4 Explore Percentage Change\n",
    "\n",
    "A percent of change is the amount of change from one period to another one in percent.\n",
    "\n",
    "\n",
    "Let's focus on the men and women clothing market. To access the data, the following query has been run:\n",
    "\n",
    "![15](./Pict15.jpg)\n",
    "![16](./Pict16.jpg)\n",
    "\n",
    "First the percentage between men and women sales has been computed and plotted over time. It can be seen that women sales are significantly larger than men sales and this trend is going up.\n",
    "\n",
    "![18](./Pict18.jpg)\n",
    "Then the percentage of growth over years has been computed. It can we seen that the total growth of clothing is very correlated to the growth of women closes since they represent around80% of total sales. Men sales are trending down and women sales trended up in the 2000 then flat in the 2010 then down since 2015\n",
    "![17](./Pict17.jpg)\n"
   ]
  },
  {
   "cell_type": "markdown",
   "metadata": {},
   "source": [
    "[Back to top](#Index)\n",
    "\n",
    "### 3.5 Explore Rolling Time Windows\n",
    "\n",
    "A rolling time window is used to look at historical data and combine them into one single value that can be averaged, sumed, ...\n",
    "This query has been used to query the data:\n",
    "\n",
    "![21](./Pict21.jpg)\n",
    "\n",
    "\n",
    "\n",
    "![20](./Pict20.jpg)\n",
    "It can be seen that the rolling time window smoothen the plots and make it more readable to get a global view of the historical data. However, the sesonality is lost through this operation. \n",
    "An other way of doing this, is by grouping the data per year directly in SQL.\n",
    "![22](./Pict22.jpg)\n",
    "\n"
   ]
  },
  {
   "cell_type": "markdown",
   "metadata": {},
   "source": [
    "[Back to top](#Index)\n",
    "\n",
    "## Conclusion\n",
    "\n",
    "The book industry and the men closing industry is definitely trending down and will probably not attract a lot of investment. The sport goods industry is trending up and has a lot of potential especially after this time of COVID that bring wellness and heath in the front scene.\n",
    "\n"
   ]
  },
  {
   "cell_type": "markdown",
   "metadata": {},
   "source": [
    "\n",
    "[Back to top](#Index\n",
    ")\n",
    "## References\n",
    "\n",
    "Add all references you used to complete this project.\n",
    "\n",
    "Use this format for articles:\n",
    "- Author Last Name, Author First Name. “Article Title.” Journal Title Volume #, no. Issue # (year): page range.\n",
    "\n",
    "- Ex: Doe, John. “Data Engineering.” Data Engineering Journal 18, no. 4 (2021): 12-18.\n",
    "\n",
    "Use this format for websites:\n",
    "- Author Last Name, Author First Name. “Title of Web Page.” Name of Website. Publishing organization, publication or revision date if available. Access date if no other date is available. URL .\n",
    "\n",
    "- Doe, John. “Data Engineering.” Data Engineer Resource. Cengage, 2021. www.dataengineerresource.com .\n"
   ]
  },
  {
   "cell_type": "code",
   "execution_count": null,
   "metadata": {},
   "outputs": [],
   "source": []
  }
 ],
 "metadata": {
  "kernelspec": {
   "display_name": "Python 3 (ipykernel)",
   "language": "python",
   "name": "python3"
  },
  "language_info": {
   "codemirror_mode": {
    "name": "ipython",
    "version": 3
   },
   "file_extension": ".py",
   "mimetype": "text/x-python",
   "name": "python",
   "nbconvert_exporter": "python",
   "pygments_lexer": "ipython3",
   "version": "3.9.7"
  }
 },
 "nbformat": 4,
 "nbformat_minor": 4
}
